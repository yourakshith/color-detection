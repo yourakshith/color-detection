{
 "cells": [
  {
   "cell_type": "markdown",
   "id": "405d8d21",
   "metadata": {
    "papermill": {
     "duration": 0.006751,
     "end_time": "2022-10-29T13:06:19.820316",
     "exception": false,
     "start_time": "2022-10-29T13:06:19.813565",
     "status": "completed"
    },
    "tags": []
   },
   "source": [
    "# Color Detection"
   ]
  },
  {
   "cell_type": "code",
   "execution_count": 1,
   "id": "a628671d",
   "metadata": {
    "execution": {
     "iopub.execute_input": "2022-10-29T13:06:19.838506Z",
     "iopub.status.busy": "2022-10-29T13:06:19.836763Z",
     "iopub.status.idle": "2022-10-29T13:06:21.395447Z",
     "shell.execute_reply": "2022-10-29T13:06:21.394208Z"
    },
    "papermill": {
     "duration": 1.572447,
     "end_time": "2022-10-29T13:06:21.398333",
     "exception": false,
     "start_time": "2022-10-29T13:06:19.825886",
     "status": "completed"
    },
    "tags": []
   },
   "outputs": [],
   "source": [
    "import os\n",
    "import pandas as pd\n",
    "import numpy as np\n",
    "import cv2\n",
    "from mpl_toolkits import mplot3d\n",
    "from matplotlib import pyplot as plt\n",
    "from sklearn.model_selection import train_test_split\n",
    "from sklearn.neighbors import KNeighborsClassifier\n",
    "from sklearn.metrics import accuracy_score"
   ]
  },
  {
   "cell_type": "code",
   "execution_count": 79,
   "id": "98a02657",
   "metadata": {
    "execution": {
     "iopub.execute_input": "2022-10-29T13:06:21.412392Z",
     "iopub.status.busy": "2022-10-29T13:06:21.410982Z",
     "iopub.status.idle": "2022-10-29T13:06:21.737288Z",
     "shell.execute_reply": "2022-10-29T13:06:21.736343Z"
    },
    "papermill": {
     "duration": 0.336548,
     "end_time": "2022-10-29T13:06:21.740650",
     "exception": false,
     "start_time": "2022-10-29T13:06:21.404102",
     "status": "completed"
    },
    "tags": []
   },
   "outputs": [
    {
     "data": {
      "image/png": "[encoded data removed]",
      "text/plain": [
       "<Figure size 432x288 with 1 Axes>"
      ]
     },
     "metadata": {
      "needs_background": "light"
     },
     "output_type": "display_data"
    }
   ],
   "source": [
    "citra = cv2.cvtColor(cv2.imread(\"color\\\\training_dataset\\\\red\\\\red19.png\"), cv2.COLOR_BGR2RGB)\n",
    "plt.imshow(citra);"
   ]
  },
  {
   "cell_type": "code",
   "execution_count": 60,
   "id": "52630eb6",
   "metadata": {
    "execution": {
     "iopub.execute_input": "2022-10-29T13:06:21.758290Z",
     "iopub.status.busy": "2022-10-29T13:06:21.757533Z",
     "iopub.status.idle": "2022-10-29T13:06:23.980112Z",
     "shell.execute_reply": "2022-10-29T13:06:23.978814Z"
    },
    "papermill": {
     "duration": 2.234025,
     "end_time": "2022-10-29T13:06:23.983093",
     "exception": false,
     "start_time": "2022-10-29T13:06:21.749068",
     "status": "completed"
    },
    "tags": []
   },
   "outputs": [],
   "source": [
    "rgb = []\n",
    "color = []\n",
    "\n",
    "for dirname, _, filenames in os.walk(\"color\"):\n",
    "    for filename in filenames:\n",
    "        image = cv2.cvtColor(cv2.imread(os.path.join(dirname, filename)), cv2.COLOR_BGR2RGB)\n",
    "        rgb.append(image[0][0])\n",
    "        color.append(dirname.split(\"\\\\\")[-1])"
   ]
  },
  {
   "cell_type": "code",
   "execution_count": 61,
   "id": "4c91a984",
   "metadata": {
    "execution": {
     "iopub.execute_input": "2022-10-29T13:06:23.997118Z",
     "iopub.status.busy": "2022-10-29T13:06:23.996651Z",
     "iopub.status.idle": "2022-10-29T13:06:24.019560Z",
     "shell.execute_reply": "2022-10-29T13:06:24.018240Z"
    },
    "papermill": {
     "duration": 0.033279,
     "end_time": "2022-10-29T13:06:24.022777",
     "exception": false,
     "start_time": "2022-10-29T13:06:23.989498",
     "status": "completed"
    },
    "tags": []
   },
   "outputs": [
    {
     "data": {
      "text/html": [
       "<div>\n",
       "<style scoped>\n",
       "    .dataframe tbody tr th:only-of-type {\n",
       "        vertical-align: middle;\n",
       "    }\n",
       "\n",
       "    .dataframe tbody tr th {\n",
       "        vertical-align: top;\n",
       "    }\n",
       "\n",
       "    .dataframe thead th {\n",
       "        text-align: right;\n",
       "    }\n",
       "</style>\n",
       "<table border=\"1\" class=\"dataframe\">\n",
       "  <thead>\n",
       "    <tr style=\"text-align: right;\">\n",
       "      <th></th>\n",
       "      <th>red</th>\n",
       "      <th>green</th>\n",
       "      <th>blue</th>\n",
       "    </tr>\n",
       "  </thead>\n",
       "  <tbody>\n",
       "    <tr>\n",
       "      <th>0</th>\n",
       "      <td>10</td>\n",
       "      <td>5</td>\n",
       "      <td>2</td>\n",
       "    </tr>\n",
       "    <tr>\n",
       "      <th>1</th>\n",
       "      <td>17</td>\n",
       "      <td>0</td>\n",
       "      <td>17</td>\n",
       "    </tr>\n",
       "    <tr>\n",
       "      <th>2</th>\n",
       "      <td>29</td>\n",
       "      <td>24</td>\n",
       "      <td>23</td>\n",
       "    </tr>\n",
       "    <tr>\n",
       "      <th>3</th>\n",
       "      <td>47</td>\n",
       "      <td>47</td>\n",
       "      <td>47</td>\n",
       "    </tr>\n",
       "    <tr>\n",
       "      <th>4</th>\n",
       "      <td>28</td>\n",
       "      <td>29</td>\n",
       "      <td>33</td>\n",
       "    </tr>\n",
       "  </tbody>\n",
       "</table>\n",
       "</div>"
      ],
      "text/plain": [
       "   red  green  blue\n",
       "0   10      5     2\n",
       "1   17      0    17\n",
       "2   29     24    23\n",
       "3   47     47    47\n",
       "4   28     29    33"
      ]
     },
     "execution_count": 61,
     "metadata": {},
     "output_type": "execute_result"
    }
   ],
   "source": [
    "rgb_df = pd.DataFrame(np.array(rgb), columns=['red', 'green', 'blue'])\n",
    "rgb_df.head()"
   ]
  },
  {
   "cell_type": "code",
   "execution_count": 62,
   "id": "1512412e",
   "metadata": {
    "execution": {
     "iopub.execute_input": "2022-10-29T13:06:24.036915Z",
     "iopub.status.busy": "2022-10-29T13:06:24.036491Z",
     "iopub.status.idle": "2022-10-29T13:06:24.048273Z",
     "shell.execute_reply": "2022-10-29T13:06:24.047181Z"
    },
    "papermill": {
     "duration": 0.02146,
     "end_time": "2022-10-29T13:06:24.050558",
     "exception": false,
     "start_time": "2022-10-29T13:06:24.029098",
     "status": "completed"
    },
    "tags": []
   },
   "outputs": [
    {
     "data": {
      "text/html": [
       "<div>\n",
       "<style scoped>\n",
       "    .dataframe tbody tr th:only-of-type {\n",
       "        vertical-align: middle;\n",
       "    }\n",
       "\n",
       "    .dataframe tbody tr th {\n",
       "        vertical-align: top;\n",
       "    }\n",
       "\n",
       "    .dataframe thead th {\n",
       "        text-align: right;\n",
       "    }\n",
       "</style>\n",
       "<table border=\"1\" class=\"dataframe\">\n",
       "  <thead>\n",
       "    <tr style=\"text-align: right;\">\n",
       "      <th></th>\n",
       "      <th>color</th>\n",
       "    </tr>\n",
       "  </thead>\n",
       "  <tbody>\n",
       "    <tr>\n",
       "      <th>0</th>\n",
       "      <td>black</td>\n",
       "    </tr>\n",
       "    <tr>\n",
       "      <th>1</th>\n",
       "      <td>black</td>\n",
       "    </tr>\n",
       "    <tr>\n",
       "      <th>2</th>\n",
       "      <td>black</td>\n",
       "    </tr>\n",
       "    <tr>\n",
       "      <th>3</th>\n",
       "      <td>black</td>\n",
       "    </tr>\n",
       "    <tr>\n",
       "      <th>4</th>\n",
       "      <td>black</td>\n",
       "    </tr>\n",
       "  </tbody>\n",
       "</table>\n",
       "</div>"
      ],
      "text/plain": [
       "   color\n",
       "0  black\n",
       "1  black\n",
       "2  black\n",
       "3  black\n",
       "4  black"
      ]
     },
     "execution_count": 62,
     "metadata": {},
     "output_type": "execute_result"
    }
   ],
   "source": [
    "color_df = pd.DataFrame(\n",
    "    {\n",
    "        'color': color\n",
    "    }\n",
    ")\n",
    "\n",
    "color_df.head()"
   ]
  },
  {
   "cell_type": "code",
   "execution_count": 63,
   "id": "06e12fbc",
   "metadata": {
    "execution": {
     "iopub.execute_input": "2022-10-29T13:06:24.065237Z",
     "iopub.status.busy": "2022-10-29T13:06:24.064788Z",
     "iopub.status.idle": "2022-10-29T13:06:24.086086Z",
     "shell.execute_reply": "2022-10-29T13:06:24.084847Z"
    },
    "papermill": {
     "duration": 0.031657,
     "end_time": "2022-10-29T13:06:24.088685",
     "exception": false,
     "start_time": "2022-10-29T13:06:24.057028",
     "status": "completed"
    },
    "tags": []
   },
   "outputs": [
    {
     "data": {
      "text/html": [
       "<div>\n",
       "<style scoped>\n",
       "    .dataframe tbody tr th:only-of-type {\n",
       "        vertical-align: middle;\n",
       "    }\n",
       "\n",
       "    .dataframe tbody tr th {\n",
       "        vertical-align: top;\n",
       "    }\n",
       "\n",
       "    .dataframe thead th {\n",
       "        text-align: right;\n",
       "    }\n",
       "</style>\n",
       "<table border=\"1\" class=\"dataframe\">\n",
       "  <thead>\n",
       "    <tr style=\"text-align: right;\">\n",
       "      <th></th>\n",
       "      <th>red</th>\n",
       "      <th>green</th>\n",
       "      <th>blue</th>\n",
       "      <th>color</th>\n",
       "    </tr>\n",
       "  </thead>\n",
       "  <tbody>\n",
       "    <tr>\n",
       "      <th>0</th>\n",
       "      <td>10</td>\n",
       "      <td>5</td>\n",
       "      <td>2</td>\n",
       "      <td>black</td>\n",
       "    </tr>\n",
       "    <tr>\n",
       "      <th>1</th>\n",
       "      <td>17</td>\n",
       "      <td>0</td>\n",
       "      <td>17</td>\n",
       "      <td>black</td>\n",
       "    </tr>\n",
       "    <tr>\n",
       "      <th>2</th>\n",
       "      <td>29</td>\n",
       "      <td>24</td>\n",
       "      <td>23</td>\n",
       "      <td>black</td>\n",
       "    </tr>\n",
       "    <tr>\n",
       "      <th>3</th>\n",
       "      <td>47</td>\n",
       "      <td>47</td>\n",
       "      <td>47</td>\n",
       "      <td>black</td>\n",
       "    </tr>\n",
       "    <tr>\n",
       "      <th>4</th>\n",
       "      <td>28</td>\n",
       "      <td>29</td>\n",
       "      <td>33</td>\n",
       "      <td>black</td>\n",
       "    </tr>\n",
       "  </tbody>\n",
       "</table>\n",
       "</div>"
      ],
      "text/plain": [
       "   red  green  blue  color\n",
       "0   10      5     2  black\n",
       "1   17      0    17  black\n",
       "2   29     24    23  black\n",
       "3   47     47    47  black\n",
       "4   28     29    33  black"
      ]
     },
     "execution_count": 63,
     "metadata": {},
     "output_type": "execute_result"
    }
   ],
   "source": [
    "df = rgb_df.join(color_df)\n",
    "df.head()"
   ]
  },
  {
   "cell_type": "code",
   "execution_count": 80,
   "id": "55609359",
   "metadata": {
    "execution": {
     "iopub.execute_input": "2022-10-29T13:06:24.103871Z",
     "iopub.status.busy": "2022-10-29T13:06:24.103439Z",
     "iopub.status.idle": "2022-10-29T13:06:24.127465Z",
     "shell.execute_reply": "2022-10-29T13:06:24.126047Z"
    },
    "papermill": {
     "duration": 0.035543,
     "end_time": "2022-10-29T13:06:24.130787",
     "exception": false,
     "start_time": "2022-10-29T13:06:24.095244",
     "status": "completed"
    },
    "tags": []
   },
   "outputs": [
    {
     "name": "stdout",
     "output_type": "stream",
     "text": [
      "<class 'pandas.core.frame.DataFrame'>\n",
      "RangeIndex: 250 entries, 0 to 249\n",
      "Data columns (total 4 columns):\n",
      " #   Column  Non-Null Count  Dtype \n",
      "---  ------  --------------  ----- \n",
      " 0   red     250 non-null    uint8 \n",
      " 1   green   250 non-null    uint8 \n",
      " 2   blue    250 non-null    uint8 \n",
      " 3   color   250 non-null    object\n",
      "dtypes: object(1), uint8(3)\n",
      "memory usage: 2.8+ KB\n"
     ]
    }
   ],
   "source": [
    "df.info()"
   ]
  },
  {
   "cell_type": "code",
   "execution_count": 65,
   "id": "049b9eed",
   "metadata": {
    "execution": {
     "iopub.execute_input": "2022-10-29T13:06:24.147957Z",
     "iopub.status.busy": "2022-10-29T13:06:24.147534Z",
     "iopub.status.idle": "2022-10-29T13:06:24.155669Z",
     "shell.execute_reply": "2022-10-29T13:06:24.154403Z"
    },
    "papermill": {
     "duration": 0.018963,
     "end_time": "2022-10-29T13:06:24.158237",
     "exception": false,
     "start_time": "2022-10-29T13:06:24.139274",
     "status": "completed"
    },
    "tags": []
   },
   "outputs": [
    {
     "data": {
      "text/plain": [
       "10"
      ]
     },
     "execution_count": 65,
     "metadata": {},
     "output_type": "execute_result"
    }
   ],
   "source": [
    "df['color'].nunique()"
   ]
  },
  {
   "cell_type": "code",
   "execution_count": 66,
   "id": "ec03e7ae",
   "metadata": {
    "execution": {
     "iopub.execute_input": "2022-10-29T13:06:24.173594Z",
     "iopub.status.busy": "2022-10-29T13:06:24.173139Z",
     "iopub.status.idle": "2022-10-29T13:06:24.179004Z",
     "shell.execute_reply": "2022-10-29T13:06:24.177595Z"
    },
    "papermill": {
     "duration": 0.016757,
     "end_time": "2022-10-29T13:06:24.181537",
     "exception": false,
     "start_time": "2022-10-29T13:06:24.164780",
     "status": "completed"
    },
    "tags": []
   },
   "outputs": [],
   "source": [
    "red = df['red']\n",
    "green = df['green']\n",
    "blue = df['blue']"
   ]
  },
  {
   "cell_type": "code",
   "execution_count": 67,
   "id": "1674fce9",
   "metadata": {
    "execution": {
     "iopub.execute_input": "2022-10-29T13:06:24.197408Z",
     "iopub.status.busy": "2022-10-29T13:06:24.196912Z",
     "iopub.status.idle": "2022-10-29T13:06:24.450626Z",
     "shell.execute_reply": "2022-10-29T13:06:24.449266Z"
    },
    "papermill": {
     "duration": 0.265129,
     "end_time": "2022-10-29T13:06:24.453438",
     "exception": false,
     "start_time": "2022-10-29T13:06:24.188309",
     "status": "completed"
    },
    "tags": []
   },
   "outputs": [
    {
     "data": {
      "image/png": "[encoded data removed]",
      "text/plain": [
       "<Figure size 432x288 with 1 Axes>"
      ]
     },
     "metadata": {
      "needs_background": "light"
     },
     "output_type": "display_data"
    }
   ],
   "source": [
    "fig = plt.figure()\n",
    "ax = plt.axes(projection='3d')\n",
    "\n",
    "ax.scatter(red, green, blue, c=df['color'])\n",
    "ax.set(title='scatter RGB 3d',\n",
    "      xlabel='red',\n",
    "      ylabel='green',\n",
    "      zlabel='blue')\n",
    "plt.show()"
   ]
  },
  {
   "cell_type": "code",
   "execution_count": 68,
   "id": "d6795d6e",
   "metadata": {
    "execution": {
     "iopub.execute_input": "2022-10-29T13:06:24.470759Z",
     "iopub.status.busy": "2022-10-29T13:06:24.470306Z",
     "iopub.status.idle": "2022-10-29T13:06:24.477049Z",
     "shell.execute_reply": "2022-10-29T13:06:24.475748Z"
    },
    "papermill": {
     "duration": 0.018587,
     "end_time": "2022-10-29T13:06:24.479690",
     "exception": false,
     "start_time": "2022-10-29T13:06:24.461103",
     "status": "completed"
    },
    "tags": []
   },
   "outputs": [],
   "source": [
    "X = df.iloc[:, 0:3]\n",
    "y= df.iloc[:, -1]"
   ]
  },
  {
   "cell_type": "code",
   "execution_count": 69,
   "id": "7f8c06eb",
   "metadata": {
    "execution": {
     "iopub.execute_input": "2022-10-29T13:06:24.497055Z",
     "iopub.status.busy": "2022-10-29T13:06:24.496101Z",
     "iopub.status.idle": "2022-10-29T13:06:24.504497Z",
     "shell.execute_reply": "2022-10-29T13:06:24.503189Z"
    },
    "papermill": {
     "duration": 0.019687,
     "end_time": "2022-10-29T13:06:24.506908",
     "exception": false,
     "start_time": "2022-10-29T13:06:24.487221",
     "status": "completed"
    },
    "tags": []
   },
   "outputs": [],
   "source": [
    "X_train, X_test, y_train, y_test = train_test_split(X, y, test_size=0.3, random_state=0)"
   ]
  },
  {
   "cell_type": "code",
   "execution_count": 70,
   "id": "8020c6d7",
   "metadata": {
    "execution": {
     "iopub.execute_input": "2022-10-29T13:06:24.523841Z",
     "iopub.status.busy": "2022-10-29T13:06:24.523395Z",
     "iopub.status.idle": "2022-10-29T13:06:24.664202Z",
     "shell.execute_reply": "2022-10-29T13:06:24.663125Z"
    },
    "papermill": {
     "duration": 0.152868,
     "end_time": "2022-10-29T13:06:24.667387",
     "exception": false,
     "start_time": "2022-10-29T13:06:24.514519",
     "status": "completed"
    },
    "tags": []
   },
   "outputs": [],
   "source": [
    "k = 30\n",
    "neighbors = []\n",
    "accuracy = []\n",
    "\n",
    "for i in range(k):\n",
    "    knn = KNeighborsClassifier(n_neighbors=i+1, weights='distance', metric='euclidean')\n",
    "    knn = knn.fit(X_train, y_train)\n",
    "    y_pred = knn.predict(X_test)\n",
    "    neighbors.append(i+1)\n",
    "    accuracy.append(accuracy_score(y_test, y_pred))"
   ]
  },
  {
   "cell_type": "code",
   "execution_count": 71,
   "id": "efca16ab",
   "metadata": {
    "execution": {
     "iopub.execute_input": "2022-10-29T13:06:24.686535Z",
     "iopub.status.busy": "2022-10-29T13:06:24.685036Z",
     "iopub.status.idle": "2022-10-29T13:06:24.894831Z",
     "shell.execute_reply": "2022-10-29T13:06:24.894011Z"
    },
    "papermill": {
     "duration": 0.221628,
     "end_time": "2022-10-29T13:06:24.897267",
     "exception": false,
     "start_time": "2022-10-29T13:06:24.675639",
     "status": "completed"
    },
    "tags": []
   },
   "outputs": [
    {
     "data": {
      "image/png": "[encoded data removed]",
      "text/plain": [
       "<Figure size 432x288 with 1 Axes>"
      ]
     },
     "metadata": {
      "needs_background": "light"
     },
     "output_type": "display_data"
    }
   ],
   "source": [
    "plt.plot(neighbors, accuracy)\n",
    "plt.xlabel('neighbors')\n",
    "plt.ylabel('accuracy')\n",
    "plt.show()"
   ]
  },
  {
   "cell_type": "code",
   "execution_count": 72,
   "id": "b1cdc115",
   "metadata": {
    "execution": {
     "iopub.execute_input": "2022-10-29T13:06:24.918910Z",
     "iopub.status.busy": "2022-10-29T13:06:24.916435Z",
     "iopub.status.idle": "2022-10-29T13:06:24.930709Z",
     "shell.execute_reply": "2022-10-29T13:06:24.929395Z"
    },
    "papermill": {
     "duration": 0.028326,
     "end_time": "2022-10-29T13:06:24.934066",
     "exception": false,
     "start_time": "2022-10-29T13:06:24.905740",
     "status": "completed"
    },
    "tags": []
   },
   "outputs": [
    {
     "data": {
      "text/html": [
       "<div>\n",
       "<style scoped>\n",
       "    .dataframe tbody tr th:only-of-type {\n",
       "        vertical-align: middle;\n",
       "    }\n",
       "\n",
       "    .dataframe tbody tr th {\n",
       "        vertical-align: top;\n",
       "    }\n",
       "\n",
       "    .dataframe thead th {\n",
       "        text-align: right;\n",
       "    }\n",
       "</style>\n",
       "<table border=\"1\" class=\"dataframe\">\n",
       "  <thead>\n",
       "    <tr style=\"text-align: right;\">\n",
       "      <th></th>\n",
       "      <th>neighbors</th>\n",
       "      <th>accuracy</th>\n",
       "    </tr>\n",
       "  </thead>\n",
       "  <tbody>\n",
       "    <tr>\n",
       "      <th>0</th>\n",
       "      <td>1</td>\n",
       "      <td>0.946667</td>\n",
       "    </tr>\n",
       "    <tr>\n",
       "      <th>1</th>\n",
       "      <td>2</td>\n",
       "      <td>0.946667</td>\n",
       "    </tr>\n",
       "    <tr>\n",
       "      <th>2</th>\n",
       "      <td>3</td>\n",
       "      <td>0.933333</td>\n",
       "    </tr>\n",
       "    <tr>\n",
       "      <th>3</th>\n",
       "      <td>4</td>\n",
       "      <td>0.920000</td>\n",
       "    </tr>\n",
       "    <tr>\n",
       "      <th>4</th>\n",
       "      <td>5</td>\n",
       "      <td>0.880000</td>\n",
       "    </tr>\n",
       "  </tbody>\n",
       "</table>\n",
       "</div>"
      ],
      "text/plain": [
       "   neighbors  accuracy\n",
       "0          1  0.946667\n",
       "1          2  0.946667\n",
       "2          3  0.933333\n",
       "3          4  0.920000\n",
       "4          5  0.880000"
      ]
     },
     "execution_count": 72,
     "metadata": {},
     "output_type": "execute_result"
    }
   ],
   "source": [
    "accuracy_df = pd.DataFrame(\n",
    "    {\n",
    "        'neighbors': neighbors,\n",
    "        'accuracy': accuracy\n",
    "    }\n",
    ")\n",
    "\n",
    "accuracy_df.head()"
   ]
  },
  {
   "cell_type": "code",
   "execution_count": 73,
   "id": "017d7548",
   "metadata": {
    "execution": {
     "iopub.execute_input": "2022-10-29T13:06:24.951361Z",
     "iopub.status.busy": "2022-10-29T13:06:24.950931Z",
     "iopub.status.idle": "2022-10-29T13:06:24.959018Z",
     "shell.execute_reply": "2022-10-29T13:06:24.957894Z"
    },
    "papermill": {
     "duration": 0.019595,
     "end_time": "2022-10-29T13:06:24.961440",
     "exception": false,
     "start_time": "2022-10-29T13:06:24.941845",
     "status": "completed"
    },
    "tags": []
   },
   "outputs": [],
   "source": [
    "knn = KNeighborsClassifier(n_neighbors=1, weights='distance', metric='euclidean')\n",
    "knn = knn.fit(X_train, y_train)"
   ]
  },
  {
   "cell_type": "code",
   "execution_count": 74,
   "id": "81a4e542",
   "metadata": {
    "execution": {
     "iopub.execute_input": "2022-10-29T13:06:24.980434Z",
     "iopub.status.busy": "2022-10-29T13:06:24.980019Z",
     "iopub.status.idle": "2022-10-29T13:06:24.987588Z",
     "shell.execute_reply": "2022-10-29T13:06:24.986805Z"
    },
    "papermill": {
     "duration": 0.019636,
     "end_time": "2022-10-29T13:06:24.989952",
     "exception": false,
     "start_time": "2022-10-29T13:06:24.970316",
     "status": "completed"
    },
    "tags": []
   },
   "outputs": [],
   "source": [
    "y_pred = knn.predict(X_test)"
   ]
  },
  {
   "cell_type": "code",
   "execution_count": 75,
   "id": "a84b9b85",
   "metadata": {
    "execution": {
     "iopub.execute_input": "2022-10-29T13:06:25.007681Z",
     "iopub.status.busy": "2022-10-29T13:06:25.007212Z",
     "iopub.status.idle": "2022-10-29T13:06:25.021945Z",
     "shell.execute_reply": "2022-10-29T13:06:25.020619Z"
    },
    "papermill": {
     "duration": 0.026703,
     "end_time": "2022-10-29T13:06:25.024342",
     "exception": false,
     "start_time": "2022-10-29T13:06:24.997639",
     "status": "completed"
    },
    "tags": []
   },
   "outputs": [
    {
     "data": {
      "text/html": [
       "<div>\n",
       "<style scoped>\n",
       "    .dataframe tbody tr th:only-of-type {\n",
       "        vertical-align: middle;\n",
       "    }\n",
       "\n",
       "    .dataframe tbody tr th {\n",
       "        vertical-align: top;\n",
       "    }\n",
       "\n",
       "    .dataframe thead th {\n",
       "        text-align: right;\n",
       "    }\n",
       "</style>\n",
       "<table border=\"1\" class=\"dataframe\">\n",
       "  <thead>\n",
       "    <tr style=\"text-align: right;\">\n",
       "      <th></th>\n",
       "      <th>y_actual</th>\n",
       "      <th>y_predict</th>\n",
       "    </tr>\n",
       "  </thead>\n",
       "  <tbody>\n",
       "    <tr>\n",
       "      <th>225</th>\n",
       "      <td>yellow</td>\n",
       "      <td>yellow</td>\n",
       "    </tr>\n",
       "    <tr>\n",
       "      <th>122</th>\n",
       "      <td>grey</td>\n",
       "      <td>grey</td>\n",
       "    </tr>\n",
       "    <tr>\n",
       "      <th>92</th>\n",
       "      <td>green</td>\n",
       "      <td>green</td>\n",
       "    </tr>\n",
       "    <tr>\n",
       "      <th>157</th>\n",
       "      <td>red</td>\n",
       "      <td>red</td>\n",
       "    </tr>\n",
       "    <tr>\n",
       "      <th>154</th>\n",
       "      <td>red</td>\n",
       "      <td>red</td>\n",
       "    </tr>\n",
       "    <tr>\n",
       "      <th>...</th>\n",
       "      <td>...</td>\n",
       "      <td>...</td>\n",
       "    </tr>\n",
       "    <tr>\n",
       "      <th>240</th>\n",
       "      <td>yellow</td>\n",
       "      <td>yellow</td>\n",
       "    </tr>\n",
       "    <tr>\n",
       "      <th>210</th>\n",
       "      <td>white</td>\n",
       "      <td>white</td>\n",
       "    </tr>\n",
       "    <tr>\n",
       "      <th>170</th>\n",
       "      <td>red</td>\n",
       "      <td>red</td>\n",
       "    </tr>\n",
       "    <tr>\n",
       "      <th>16</th>\n",
       "      <td>black</td>\n",
       "      <td>black</td>\n",
       "    </tr>\n",
       "    <tr>\n",
       "      <th>146</th>\n",
       "      <td>orange</td>\n",
       "      <td>orange</td>\n",
       "    </tr>\n",
       "  </tbody>\n",
       "</table>\n",
       "<p>75 rows × 2 columns</p>\n",
       "</div>"
      ],
      "text/plain": [
       "    y_actual y_predict\n",
       "225   yellow    yellow\n",
       "122     grey      grey\n",
       "92     green     green\n",
       "157      red       red\n",
       "154      red       red\n",
       "..       ...       ...\n",
       "240   yellow    yellow\n",
       "210    white     white\n",
       "170      red       red\n",
       "16     black     black\n",
       "146   orange    orange\n",
       "\n",
       "[75 rows x 2 columns]"
      ]
     },
     "execution_count": 75,
     "metadata": {},
     "output_type": "execute_result"
    }
   ],
   "source": [
    "pd.DataFrame(\n",
    "    {\n",
    "        'y_actual': y_test,\n",
    "        'y_predict': y_pred\n",
    "    }\n",
    ")"
   ]
  },
  {
   "cell_type": "code",
   "execution_count": 77,
   "id": "66dd7dd4",
   "metadata": {
    "execution": {
     "iopub.execute_input": "2022-10-29T13:06:25.043076Z",
     "iopub.status.busy": "2022-10-29T13:06:25.042621Z",
     "iopub.status.idle": "2022-10-29T13:06:25.051463Z",
     "shell.execute_reply": "2022-10-29T13:06:25.050324Z"
    },
    "papermill": {
     "duration": 0.020718,
     "end_time": "2022-10-29T13:06:25.053825",
     "exception": false,
     "start_time": "2022-10-29T13:06:25.033107",
     "status": "completed"
    },
    "tags": []
   },
   "outputs": [],
   "source": [
    "acc = accuracy_score(y_test, y_pred)"
   ]
  },
  {
   "cell_type": "code",
   "execution_count": 78,
   "id": "4f723765",
   "metadata": {},
   "outputs": [
    {
     "name": "stdout",
     "output_type": "stream",
     "text": [
      "Accuracy: 0.9466666666666667\n"
     ]
    }
   ],
   "source": [
    "print(f\"Accuracy: {acc}\")"
   ]
  }
 ],
 "metadata": {
  "kernelspec": {
   "display_name": "Python 3 (ipykernel)",
   "language": "python",
   "name": "python3"
  },
  "language_info": {
   "codemirror_mode": {
    "name": "ipython",
    "version": 3
   },
   "file_extension": ".py",
   "mimetype": "text/x-python",
   "name": "python",
   "nbconvert_exporter": "python",
   "pygments_lexer": "ipython3",
   "version": "3.9.12"
  },
  "papermill": {
   "default_parameters": {},
   "duration": 15.480259,
   "end_time": "2022-10-29T13:06:26.203457",
   "environment_variables": {},
   "exception": null,
   "input_path": "__notebook__.ipynb",
   "output_path": "__notebook__.ipynb",
   "parameters": {},
   "start_time": "2022-10-29T13:06:10.723198",
   "version": "2.3.4"
  }
 },
 "nbformat": 4,
 "nbformat_minor": 5
}
